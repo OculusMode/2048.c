{
  "nbformat": 4,
  "nbformat_minor": 0,
  "metadata": {
    "colab": {
      "name": "Copy of Subspaces_with_ILL.ipynb",
      "provenance": [],
      "collapsed_sections": [],
      "authorship_tag": "ABX9TyPyzzzhcDLmPtJOhDF/MHNj",
      "include_colab_link": true
    },
    "kernelspec": {
      "name": "python3",
      "display_name": "Python 3"
    },
    "language_info": {
      "name": "python"
    }
  },
  "cells": [
    {
      "cell_type": "markdown",
      "metadata": {
        "id": "view-in-github",
        "colab_type": "text"
      },
      "source": [
        "<a href=\"https://colab.research.google.com/github/OculusMode/2048.c/blob/master/Copy_of_Subspaces_with_ILL.ipynb\" target=\"_parent\"><img src=\"https://colab.research.google.com/assets/colab-badge.svg\" alt=\"Open In Colab\"/></a>"
      ]
    },
    {
      "cell_type": "code",
      "execution_count": null,
      "metadata": {
        "id": "95X1Jeh0EXpu"
      },
      "outputs": [],
      "source": [
        "import numpy as np\n",
        "from numpy import random\n",
        "from numpy import linalg as LA"
      ]
    },
    {
      "cell_type": "code",
      "source": [
        "N = 10\n",
        "while True:\n",
        "  random_matrix = np.random.random((N, N))\n",
        "  random_basis, _ = LA.qr(random_matrix)\n",
        "  if LA.matrix_rank(random_basis) == N:\n",
        "    break\n",
        "random_matrix"
      ],
      "metadata": {
        "id": "P3ECQgROHLaP",
        "outputId": "82837147-2d18-4c1c-ec7f-1e2feae2a6ca",
        "colab": {
          "base_uri": "https://localhost:8080/"
        }
      },
      "execution_count": null,
      "outputs": [
        {
          "output_type": "execute_result",
          "data": {
            "text/plain": [
              "array([[0.46809241, 0.68203437, 0.69089466, 0.49218304, 0.33035125,\n",
              "        0.58960241, 0.4659168 , 0.62072172, 0.26442454, 0.23872246],\n",
              "       [0.24440966, 0.85212048, 0.20114524, 0.43821601, 0.26584156,\n",
              "        0.90100605, 0.07223073, 0.42809285, 0.56584573, 0.03178707],\n",
              "       [0.45271388, 0.06763828, 0.75094925, 0.0687412 , 0.81072631,\n",
              "        0.96291669, 0.7834865 , 0.29710571, 0.60017733, 0.98440205],\n",
              "       [0.63709552, 0.38854194, 0.3577305 , 0.44096604, 0.25696319,\n",
              "        0.1905009 , 0.71408127, 0.40388844, 0.66779044, 0.49525156],\n",
              "       [0.85053348, 0.69732879, 0.63515882, 0.0684459 , 0.58545109,\n",
              "        0.2184416 , 0.74877886, 0.95152904, 0.6744762 , 0.27082972],\n",
              "       [0.18559812, 0.32188223, 0.31182212, 0.52098914, 0.19508285,\n",
              "        0.01209474, 0.26224432, 0.29950922, 0.75870376, 0.77149721],\n",
              "       [0.25421961, 0.33505561, 0.19861365, 0.7738671 , 0.56882397,\n",
              "        0.20018576, 0.79890807, 0.53577015, 0.56329623, 0.63908255],\n",
              "       [0.94781687, 0.02903073, 0.67595867, 0.39943996, 0.31000264,\n",
              "        0.46092444, 0.22198326, 0.4655864 , 0.01533992, 0.23496697],\n",
              "       [0.52967123, 0.1934739 , 0.52266167, 0.93435731, 0.78733714,\n",
              "        0.04083597, 0.40008906, 0.0773009 , 0.68943618, 0.79354176],\n",
              "       [0.18336771, 0.63650704, 0.29138572, 0.82981158, 0.1586435 ,\n",
              "        0.23083722, 0.6770076 , 0.5228288 , 0.13494196, 0.10570802]])"
            ]
          },
          "metadata": {},
          "execution_count": 11
        }
      ]
    },
    {
      "cell_type": "code",
      "source": [
        ""
      ],
      "metadata": {
        "id": "KW3N0ob_HR_W"
      },
      "execution_count": null,
      "outputs": []
    }
  ]
}